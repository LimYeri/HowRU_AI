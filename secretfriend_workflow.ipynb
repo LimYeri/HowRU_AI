{
 "cells": [
  {
   "cell_type": "markdown",
   "id": "3056cff8",
   "metadata": {},
   "source": [
    "### 환경 설정"
   ]
  },
  {
   "cell_type": "code",
   "execution_count": 1,
   "id": "918cc59a",
   "metadata": {},
   "outputs": [
    {
     "data": {
      "text/plain": [
       "True"
      ]
     },
     "execution_count": 1,
     "metadata": {},
     "output_type": "execute_result"
    }
   ],
   "source": [
    "# API 키를 환경변수로 관리하기 위한 설정 파일\n",
    "from dotenv import load_dotenv\n",
    "\n",
    "# API 키 정보 로드\n",
    "load_dotenv()"
   ]
  },
  {
   "cell_type": "code",
   "execution_count": 2,
   "metadata": {},
   "outputs": [
    {
     "name": "stdout",
     "output_type": "stream",
     "text": [
      "LangSmith 추적을 시작합니다.\n",
      "[프로젝트명]\n",
      "Secretfriend Workflow - 모듈화 TEST\n"
     ]
    }
   ],
   "source": [
    "# LangSmith 추적을 설정합니다. https://smith.langchain.com\n",
    "# !pip install -qU langchain-teddynote\n",
    "from langchain_teddynote import logging\n",
    "\n",
    "# 프로젝트 이름을 입력합니다.\n",
    "logging.langsmith(\"Secretfriend Workflow - 모듈화 TEST\")"
   ]
  },
  {
   "cell_type": "markdown",
   "id": "46bc3395",
   "metadata": {},
   "source": [
    "### LLM"
   ]
  },
  {
   "cell_type": "code",
   "execution_count": 3,
   "id": "e0e34413",
   "metadata": {},
   "outputs": [],
   "source": [
    "from agents import *\n",
    "from langchain_openai import ChatOpenAI\n",
    "from langchain_teddynote.models import get_model_name, LLMs\n",
    "\n",
    "# LLM 초기화\n",
    "MODEL_NAME = get_model_name(LLMs.GPT4o)\n",
    "llm = ChatOpenAI(temperature=0, model=MODEL_NAME)"
   ]
  },
  {
   "cell_type": "markdown",
   "id": "3c9eff40",
   "metadata": {},
   "source": [
    "### Agents"
   ]
  },
  {
   "cell_type": "code",
   "execution_count": 4,
   "id": "961936a5",
   "metadata": {},
   "outputs": [],
   "source": [
    "from langchain.agents import create_tool_calling_agent\n",
    "from langchain.agents import AgentExecutor\n",
    "from langchain_core.output_parsers import PydanticOutputParser\n",
    "\n",
    "music_parser = PydanticOutputParser(pydantic_object=MusicResponse)\n",
    "\n",
    "music_tools = [SpotifyTool()]\n",
    "\n",
    "music_agent = create_tool_calling_agent(\n",
    "    llm=llm,\n",
    "    tools=music_tools,\n",
    "    prompt=get_music_prompt(music_parser.get_format_instructions())\n",
    ")\n",
    "\n",
    "# Music AgentExecutor 생성\n",
    "music_agent_executor = AgentExecutor(agent=music_agent, tools=music_tools, verbose=True)"
   ]
  },
  {
   "cell_type": "code",
   "execution_count": 5,
   "id": "e37d5c19",
   "metadata": {},
   "outputs": [],
   "source": [
    "quote_parser = PydanticOutputParser(pydantic_object=QuoteResponse)\n",
    "\n",
    "quote_tools = [create_web_search_tool()]\n",
    "\n",
    "quote_agent = create_tool_calling_agent(\n",
    "    llm=llm,\n",
    "    tools=quote_tools,\n",
    "    prompt=get_quote_prompt(quote_parser.get_format_instructions())\n",
    ")\n",
    "\n",
    "# Quote AgentExecutor 생성\n",
    "quote_agent_executor = AgentExecutor(agent=quote_agent, tools=quote_tools, verbose=True)"
   ]
  },
  {
   "cell_type": "markdown",
   "id": "e5725714",
   "metadata": {},
   "source": [
    "### 그래프 생성"
   ]
  },
  {
   "cell_type": "code",
   "execution_count": 6,
   "id": "47aa0c99",
   "metadata": {},
   "outputs": [],
   "source": [
    "from langgraph.graph import END, StateGraph, START\n",
    "\n",
    "# 그래프 생성\n",
    "letter_workflow = StateGraph(SecretFriendState)\n",
    "\n",
    "letter_workflow.add_node(\"start_node_check\", StartNodeCheck())\n",
    "letter_workflow.add_edge(START, \"start_node_check\")\n",
    "letter_workflow.add_node(\"music\", MusicRecommendationNode(music_agent_executor))\n",
    "letter_workflow.add_node(\"quote\", QuoteRecommendationNode(quote_agent_executor))\n",
    "letter_workflow.add_node(\"praise\", PraiseNode(llm))\n",
    "letter_workflow.add_node(\"mbti_feedback\", MBTIFeedbackNode(llm))\n",
    "letter_workflow.add_node(\"letter_markdown\", LetterMarkdownNode())\n",
    "\n",
    "\n",
    "# 노드 연결\n",
    "letter_workflow.add_edge(\"start_node_check\", \"music\")\n",
    "letter_workflow.add_edge(\"start_node_check\", \"quote\")\n",
    "letter_workflow.add_edge(\"start_node_check\", \"praise\")\n",
    "letter_workflow.add_edge(\"start_node_check\", \"mbti_feedback\")\n",
    "letter_workflow.add_edge(\"music\", \"letter_markdown\")\n",
    "letter_workflow.add_edge(\"quote\", \"letter_markdown\")\n",
    "letter_workflow.add_edge(\"praise\", \"letter_markdown\")\n",
    "letter_workflow.add_edge(\"mbti_feedback\", \"letter_markdown\")\n",
    "letter_workflow.add_edge(\"letter_markdown\", END)\n",
    "\n",
    "\n",
    "# 그래프 컴파일\n",
    "letter_graph = letter_workflow.compile()"
   ]
  },
  {
   "cell_type": "code",
   "execution_count": 7,
   "id": "d589d7b6",
   "metadata": {},
   "outputs": [
    {
     "data": {
      "image/png": "[encoded data removed]",
      "text/plain": [
       "<IPython.core.display.Image object>"
      ]
     },
     "metadata": {},
     "output_type": "display_data"
    }
   ],
   "source": [
    "from IPython.display import Image, display\n",
    "\n",
    "display(Image(letter_graph.get_graph().draw_mermaid_png()))"
   ]
  },
  {
   "cell_type": "code",
   "execution_count": 8,
   "id": "e402c378",
   "metadata": {},
   "outputs": [
    {
     "name": "stdout",
     "output_type": "stream",
     "text": [
      "\n",
      "\n",
      "\u001b[1m> Entering new AgentExecutor chain...\u001b[0m\n",
      "\n",
      "\n",
      "\u001b[1m> Entering new AgentExecutor chain...\u001b[0m\n",
      "\u001b[32;1m\u001b[1;3m\n",
      "Invoking: `tavily_search` with `{'query': '성장 명언', 'search_depth': 'basic'}`\n",
      "\n",
      "\n",
      "\u001b[0m\u001b[32;1m\u001b[1;3m\n",
      "Invoking: `spotify_recommender_tool` with `{'diary': '오늘 아침, 나는 오랜만에 조깅을 나갔다. 해가 떠오르기 시작한 시간, 6시. 아침 햇살이 너무 예뻐서 기분이 좋았다. 바람은 선선하고, 몸은 가벼워서 상쾌한 기분이 들었다. 조깅을 하면서 느끼는 그 홀가분한 감정은 언제나 나를 행복하게 만든다. 오늘은 특히나 기분이 좋았다. 아침 시간을 나를 위해 쓴 것 같아 뿌듯함이 느껴졌다. 하지만 운동화를 바꿔야 할 것 같다는 생각이 들었다. 발이 살짝 아팠거든.\\n\\n오후가 되어 2시 반, 나는 프로젝트 발표를 준비했다. 동료 유재석과 함께한 이 프로젝트는 나에게 많은 의미가 있었다. 발표 전에는 심장이 너무 뛰어서 손까지 떨렸다. 긴장감이 가득했지만, 막상 말하기 시작하니 점점 긴장이 풀렸다. 준비했던 내용을 자연스럽게 전달할 수 있었고, 그 순간의 안도감은 이루 말할 수 없었다. 많이 떨렸지만, 결국 잘 해내서 다행이라는 생각이 들었다. 진심을 담은 설명은 꼭 완벽하지 않아도 전달된다는 것을 느꼈다.\\n\\n저녁 8시, 나는 첫눈을 보았다. 언제나처럼 첫눈을 보면 기분이 좋아진다. 코끝도, 손도, 발도 시렸지만, 마음은 포근했다. 바쁘게 흘러가는 일상 속에서 잠깐 멈춰서 첫눈을 즐기며 마음을 느낄 수 있었다. 그 순간, 세상의 모든 것이 멈춘 듯한 기분이 들었다. 오늘 하루는 이렇게 기쁨과 두려움, 설렘이 가득한 하루였다. 아침의 상쾌함, 발표의 긴장감, 그리고 첫눈의 포근함이 어우러져 나에게 특별한 하루를 선사해주었다.', 'keyword': '첫눈'}`\n",
      "\n",
      "\n",
      "\u001b[0m\u001b[36;1m\u001b[1;3m제목은 [첫눈처럼 너에게 가겠다], 가수는 [KIM HOJOONG], url은 [https://open.spotify.com/track/3dzJTVPcw9zw1Pmf0z1gIm] 입니다.\u001b[0m\u001b[32;1m\u001b[1;3m{\"title\":\"첫눈처럼 너에게 가겠다\",\"artist\":\"KIM HOJOONG\",\"url\":\"https://open.spotify.com/track/3dzJTVPcw9zw1Pmf0z1gIm\",\"reason\":\"첫눈을 보면서 느꼈던 그 포근한 마음을 담아, 이 노래가 너의 특별한 하루를 더 따뜻하게 만들어줄 것 같아. 첫눈처럼 너에게 다가가는 감성을 느껴봐!\"}\u001b[0m\n",
      "\n",
      "\u001b[1m> Finished chain.\u001b[0m\n",
      "\u001b[36;1m\u001b[1;3m{'query': '성장 명언', 'follow_up_questions': None, 'answer': '성장은 지속적인 학습을 통해 이루어지며, 결정과 실행이 필요합니다. 성공은 도전을 받아들이는 것에서 시작됩니다. 성장은 개인의 발전과 꿈을 달성하는 핵심입니다.', 'images': [], 'results': [{'url': 'https://housecontents.co.kr/entry/%EC%9E%90%EA%B8%B0-%EB%B0%9C%EC%A0%84-%EB%AA%85%EC%96%B8-%EC%84%B1%EC%9E%A5-%EB%AA%85%EC%96%B8-20%EA%B0%80%EC%A7%80-%EC%B6%94%EC%B2%9C', 'title': '자기 발전 명언 : 성장 명언 20가지 추천 - 온리원', 'content': '스티븐 코비 : 성장을 계속하려면 우리는 배우고, 결정하고, 실행하며, 여전히 배우고, 결의하고, 실행해야합니다. 키르코게일 : 아무것도하지 않는 것', 'score': 0.7869018, 'raw_content': '# [온리원](https://housecontents.co.kr/)\\n\\n![블로그 이미지](https://t1.daumcdn.net/tistory_admin/static/manage/images/r3/default_L.png)\\n\\n# 자기 발전 명언 : 성장 명언 20가지 추천\\n\\n성장하기를 원한다면 쉬운 일로 만족하지 않고 멈추지 않고 항상 앞을 보는 것처럼 행동하는 것이 중요합니다. 약간의\\xa0실패가\\xa0있어도,\\xa0엎질러지지\\xa0않고,\\xa0실패를\\xa0테코로\\xa0해\\xa0검토를\\xa0거듭해,\\xa0다음의\\xa0과제에\\xa0임하는\\xa0것입니다.\\xa0그렇게\\xa0조금씩\\xa0앞으로\\xa0나아가는\\xa0것이\\xa0성장으로\\xa0이어진다고\\xa0할\\xa0수\\xa0있습니다.\\n\\n![성장](https://blog.kakaocdn.net/dna/Jd1li/btrPED86Qsa/AAAAAAAAAAAAAAAAAAAAALjwzfBiR-XYnSI8ZyIVokfUIf2nWIzeDg87EHvwnYFx/img.jpg?credential=yqXZFxpELC7KVnFOS48ylbz2pIh7yKj8&expires=1756652399&allow_ip=&allow_referer=&signature=%2BB7T%2Fkyn1fMajW%2BVvIzJJb6F8lQ%3D)\\n\\n성장\\n\\n![성장](https://blog.kakaocdn.net/dna/Jd1li/btrPED86Qsa/AAAAAAAAAAAAAAAAAAAAALjwzfBiR-XYnSI8ZyIVokfUIf2nWIzeDg87EHvwnYFx/img.jpg?credential=yqXZFxpELC7KVnFOS48ylbz2pIh7yKj8&expires=1756652399&allow_ip=&allow_referer=&signature=%2BB7T%2Fkyn1fMajW%2BVvIzJJb6F8lQ%3D)\\n\\n무언가를 잡으려고 하는 자세를 항상 갖고 있는 것. 그렇게 해서 앞으로 계속 굴러가는 돌에 이끼가 자라지 않고, 언제나 반짝반짝 닦은 상태에 있을 것입니다. 인생의 선배들도 성장을 위해 노력을 계속해 왔습니다.\\n\\n그 시간들이 그들의 인생을 형성하고 성공을 가져온 것입니다. 선배들이\\xa0말한\\xa0명언을\\xa0가슴에,\\xa0당신도\\xa0성장의\\xa0한\\xa0걸음을\\xa0내디뎌\\xa0봅시다.   \\n  \\n장\\xa0앙리\\xa0파블\\xa0:\\xa0인내와\\xa0숙고로\\xa0어려움을\\xa0겪으면\\xa0매번\\xa0자랄\\xa0수\\xa0있습니다.   \\n  \\n요한\\xa0클라이프\\xa0:\\xa0재능\\xa0있는\\xa0젊은이에게야말로\\xa0좌절을\\xa0경험시켜야\\xa0한다.\\xa0좌절은\\xa0그\\xa0선수를\\xa0성장시키는\\xa0가장\\xa0큰\\xa0양약이기\\xa0때문이다.   \\n  \\n카토\\xa0사키\\xa0:\\xa0아이는\\xa0자신이\\xa0사랑받고,\\xa0좋아한다고\\xa0느끼는\\xa0것으로,\\xa0자아의\\xa0성장이\\xa0있습니다.   \\n  \\n혼다\\xa0케이스케\\xa0:\\xa0결과를\\xa0고집하지\\xa0말고\\xa0성공을\\xa0고집하지\\xa0마라.\\xa0성장을\\xa0고집한다.   \\n  \\n소크라테스\\xa0:\\xa0책을\\xa0잘\\xa0읽고\\xa0자신을\\xa0성장시켜\\xa0가라.\\xa0책은\\xa0저자가\\xa0매우\\xa0고생하고\\xa0익힌\\xa0것을\\xa0손쉽게\\xa0얻을\\xa0수\\xa0있습니다.   \\n  \\n이안\\xa0소프\\xa0:\\xa0더\\xa0알고\\xa0싶고,\\xa0더\\xa0배우고\\xa0싶다.\\n\\n노무라\\xa0카츠야\\xa0:\\xa0작은\\xa0자존심이\\xa0그\\xa0선수의\\xa0성장을\\xa0방해합니다.   \\n  \\n야마다\\xa0아츠시\\xa0:\\xa0성장은\\xa0지금의\\xa0자신의\\xa0부정으로\\xa0시작됩니다.\\xa0\"현상에서\\xa0무엇을\\xa0할\\xa0수\\xa0있는가\"를\\xa0생각하는\\xa0것이\\xa0아니라,\\xa0\"지금\\xa0무엇을\\xa0해야\\xa0하는가\"를\\xa0생각하는\\xa0것입니다.   \\n  \\n앨런\\xa0아이버슨\\xa0:\\xa0아직도\\xa0계속\\xa0성장   \\n  \\n아이리스 머독 : 고통은 성장에서 태어난 부산물. 그냥 끝나지 않는다.  \\n  \\n레오나르도\\xa0다빈치\\xa0:\\xa0사용하지\\xa0않는\\xa0철은\\xa0녹슨다.\\xa0맑은\\xa0물은\\xa0썩고\\xa0추위에\\xa0얼어\\xa0붙는다.\\xa0마찬가지로\\xa0행동을\\xa0일으키지\\xa0않으면\\xa0재능도\\xa0썩어\\xa0버린다.   \\n  \\n오다\\xa0노부나가\\xa0:\\xa0필사적으로\\xa0살아야\\xa0그\\xa0생애는\\xa0빛을\\xa0발한다.   \\n  \\n피터\\xa0드래커\\xa0:\\xa0실패자가\\xa0무엇을\\xa0하고\\xa0실패한\\xa0것보다\\xa0성공자가\\xa0무엇을\\xa0하여\\xa0성공했는지\\xa0배우십시오.\\n\\n해롤드\\xa0지닌\\xa0:\\xa0사람은\\xa0자신이\\xa0한\\xa0실패로부터\\xa0배운다.\\xa0성공에서\\xa0배우는\\xa0것은\\xa0거의\\xa0없다.   \\n  \\n더글라스·엥겔바트\\xa0:\\xa0사람이\\xa0성숙하는\\xa0속도는\\xa0그\\xa0사람이\\xa0얼마나\\xa0수치를\\xa0견딜\\xa0수\\xa0있는지에\\xa0비례한다.   \\n  \\n스티븐・R・코비\\xa0:\\xa0성장이라는\\xa0자연의\\xa0과정에서\\xa0지름길을\\xa0하려고\\xa0하면\\xa0어떻게\\xa0할까?\\xa0예를\\xa0들어,\\xa0테니스의\\xa0초보자임에도\\xa0불구하고\\xa0사람에게\\xa0멋지게\\xa0보여주기\\xa0위해\\xa0상급자처럼\\xa0행동하면\\xa0어떻게\\xa0될까.\\xa0응답은\\xa0명백하다.\\xa0이러한\\xa0성장의\\xa0과정을\\xa0무시하거나\\xa0지름길\\xa0하는\\xa0것은\\xa0절대로\\xa0불가능한\\xa0것이다.   \\n  \\n알베르토\\xa0아인슈타인\\xa0:\\xa0배우면\\xa0배울수록\\xa0아무것도\\xa0모른다는\\xa0것을\\xa0알게\\xa0된다.\\xa0아무것도\\xa0모른다는\\xa0것을\\xa0알게\\xa0될수록\\xa0더\\xa0배우고\\xa0싶어진다.   \\n  \\n안드레·지이드\\xa0:\\xa0평범한\\xa0것을\\xa0매일\\xa0평범한\\xa0마음으로\\xa0실행하는\\xa0것이,\\xa0즉\\xa0비범한\\xa0것이다.   \\n  \\n스티븐\\xa0코비\\xa0:\\xa0성장을\\xa0계속하려면\\xa0우리는\\xa0배우고,\\xa0결정하고,\\xa0실행하며,\\xa0여전히\\xa0배우고,\\xa0결의하고,\\xa0실행해야합니다.   \\n  \\n키르코게일 : 아무것도하지 않는 것보다 도전하고 실패하는 것이 좋습니다. 결과는 같을지 모르지만 너 자신은 다르다. 우리는 승리보다 패배로 성장한다.\\n\\n[짧은 명언 : 동기부여 명언과 함께 오늘도 힘내자](https://housecontents.co.kr/entry/짧은-명언-동기부여-명언과-함께-오늘도-힘내자)\\n\\n짧은 명언 : 동기부여 명언과 함께 오늘도 힘내자\\n\\n성공의\\xa0가장\\xa0중요한\\xa0원칙\\xa0중\\xa0하나는\\xa0한\\xa0걸음\\xa0더\\xa0나아가는\\xa0습관을\\xa0기르는\\xa0것입니다.\\xa0-\\xa0나폴레옹\\xa0힐 무슨\\xa0일이\\xa0일어나든,\\xa0오늘이\\xa0얼마나\\xa0나빠\\xa0보이든\\xa0삶은\\xa0계속되고\\xa0내일은\\xa0더\\n\\nhousecontents.co.kr\\n\\n#### \\'[라이프스타일](/category/%EB%9D%BC%EC%9D%B4%ED%94%84%EC%8A%A4%ED%83%80%EC%9D%BC)\\' 카테고리의 다른 글\\n\\n|  |  |\\n| --- | --- |\\n| [레몬밤 효능 효과 4가지 : 사용법 및 주의점](/entry/%EB%A0%88%EB%AA%AC%EB%B0%A4-%ED%9A%A8%EB%8A%A5-%ED%9A%A8%EA%B3%BC-4%EA%B0%80%EC%A7%80-%EC%82%AC%EC%9A%A9%EB%B2%95-%EB%B0%8F-%EC%A3%BC%EC%9D%98%EC%A0%90)\\xa0\\xa0(0) | 2022.10.29 |\\n| [건강을 위한 집 습도 : 적정습도 관리가 중요한 이유](/entry/%EA%B1%B4%EA%B0%95%EC%9D%84-%EC%9C%84%ED%95%9C-%EC%A7%91-%EC%8A%B5%EB%8F%84-%EC%A0%81%EC%A0%95%EC%8A%B5%EB%8F%84-%EA%B4%80%EB%A6%AC%EA%B0%80-%EC%A4%91%EC%9A%94%ED%95%9C-%EC%9D%B4%EC%9C%A0)\\xa0\\xa0(0) | 2022.10.28 |\\n| [인후통 : 통증 기침으로 목이아플때 좋은 음식 음료](/entry/%EC%9D%B8%ED%9B%84%ED%86%B5-%ED%86%B5%EC%A6%9D-%EA%B8%B0%EC%B9%A8%EC%9C%BC%EB%A1%9C-%EB%AA%A9%EC%9D%B4%EC%95%84%ED%94%8C%EB%95%8C-%EC%A2%8B%EC%9D%80-%EC%9D%8C%EC%8B%9D-%EC%9D%8C%EB%A3%8C)\\xa0\\xa0(0) | 2022.10.26 |\\n| [집건조할때 : 공기 건조로 인한 문제점들](/entry/%EC%A7%91%EA%B1%B4%EC%A1%B0%ED%95%A0%EB%95%8C-%EA%B3%B5%EA%B8%B0-%EA%B1%B4%EC%A1%B0%EB%A1%9C-%EC%9D%B8%ED%95%9C-%EB%AC%B8%EC%A0%9C%EC%A0%90%EB%93%A4)\\xa0\\xa0(0) | 2022.10.25 |\\n| [재택부업으로 돈버는법 : 혼자서 할 수 있는 월100만원 부업](/entry/%EC%9E%AC%ED%83%9D%EB%B6%80%EC%97%85%EC%9C%BC%EB%A1%9C-%EB%8F%88%EB%B2%84%EB%8A%94%EB%B2%95-%ED%98%BC%EC%9E%90%EC%84%9C-%ED%95%A0-%EC%88%98-%EC%9E%88%EB%8A%94-%EC%9B%94100%EB%A7%8C%EC%9B%90-%EB%B6%80%EC%97%85)\\xa0\\xa0(0) | 2022.10.24 |\\n\\n## 태그\\n\\n## 관련글\\n\\n![](//i1.daumcdn.net/thumb/C176x120/?fname=https%3A%2F%2Fblog.kakaocdn.net%2Fdna%2FGQ3qc%2FbtrPTkAvg3V%2FAAAAAAAAAAAAAAAAAAAAAOkXLPGpdOGz17E2oLvfYngsuIXEGTzpCQ1bblilK1S3%2Fimg.jpg%3Fcredential%3DyqXZFxpELC7KVnFOS48ylbz2pIh7yKj8%26expires%3D1756652399%26allow_ip%3D%26allow_referer%3D%26signature%3Darn1igjQkSpLh9qZ5kWKpHLfAVA%253D)\\n![](//i1.daumcdn.net/thumb/C176x120/?fname=https%3A%2F%2Fblog.kakaocdn.net%2Fdna%2FXt4WS%2FbtrPI6xb9Hw%2FAAAAAAAAAAAAAAAAAAAAAI52kwTGO8icSOEh6q87yCiUz3jhH1Yqq8Nb9rzUuPMI%2Fimg.jpg%3Fcredential%3DyqXZFxpELC7KVnFOS48ylbz2pIh7yKj8%26expires%3D1756652399%26allow_ip%3D%26allow_referer%3D%26signature%3Dbti3GKqalR5HYB2ATgy7nYPwmkU%253D)\\n![](//i1.daumcdn.net/thumb/C176x120/?fname=https%3A%2F%2Fblog.kakaocdn.net%2Fdna%2Fq6mTA%2FbtrPxH5SOWy%2FAAAAAAAAAAAAAAAAAAAAANYyfsUGNd3wdmSbsETulRo3yj6uUbA0wJUmQt2uiwCX%2Fimg.jpg%3Fcredential%3DyqXZFxpELC7KVnFOS48ylbz2pIh7yKj8%26expires%3D1756652399%26allow_ip%3D%26allow_referer%3D%26signature%3DYR0vpejUAvfr9JQOK2cu3KczFmw%253D)\\n![](//i1.daumcdn.net/thumb/C176x120/?fname=https%3A%2F%2Fblog.kakaocdn.net%2Fdna%2Fc9SoUe%2FbtrPt55u4Ay%2FAAAAAAAAAAAAAAAAAAAAAA66phfHYF90meCCojbflR2Kc8WQfkXALuYbINNyH6ue%2Fimg.jpg%3Fcredential%3DyqXZFxpELC7KVnFOS48ylbz2pIh7yKj8%26expires%3D1756652399%26allow_ip%3D%26allow_referer%3D%26signature%3D0tluUnRu8S3zWE3m2gusoqY78wQ%253D)\\n\\n## 댓글0\\n\\n거주하는 공간인 집에 대한 인테리어, 리모델링, 라이프스타일 정보를 제공합니다.\\n\\nCopyright © 온리원. All rights reserved.\\n\\n## 티스토리툴바'}, {'url': 'https://goodquotes.tistory.com/entry/%EC%84%B1%EC%9E%A5%EC%97%90-%EA%B4%80%ED%95%9C-%EB%AA%85%EC%96%B8-%EC%A2%8B%EC%9D%80%EA%B8%80%EA%B7%80-35%EA%B0%80%EC%A7%80', 'title': '성장에 관한 명언 좋은글귀 35가지 - 오늘의명언 - 티스토리', 'content': '성장은 신체적, 정신적 또는 영적으로 발전하는 과정으로 정의됩니다. 양, 가치 또는 중요성이 증가하는 과정. 이 명언들이 개인으로서 성장하여 꿈을', 'score': 0.7783298, 'raw_content': '# [오늘의명언](https://goodquotes.tistory.com/)\\n\\n![블로그 이미지](https://t1.daumcdn.net/tistory_admin/static/manage/images/r3/default_L.png)\\n\\n# 성장에 관한 명언 좋은글귀 35가지\\n\\n성장은 신체적, 정신적 또는 영적으로 발전하는 과정으로 정의됩니다. 양, 가치 또는 중요성이 증가하는 과정. 이 명언들이 개인으로서 성장하여 꿈을 이룰 수 있도록 영감을 주기를 바랍니다.\\n\\n![성장](https://blog.kakaocdn.net/dna/LVHvz/btr0KSH2msa/AAAAAAAAAAAAAAAAAAAAAK_0y1ommqy8RdD5Q_h79tEW0B7J4kPlK6Htcw3y_kE-/img.jpg?credential=yqXZFxpELC7KVnFOS48ylbz2pIh7yKj8&expires=1756652399&allow_ip=&allow_referer=&signature=F3D%2B7w9Z498vHRShEobd40IRmjg%3D)\\n\\n성장\\n\\n![성장](https://blog.kakaocdn.net/dna/LVHvz/btr0KSH2msa/AAAAAAAAAAAAAAAAAAAAAK_0y1ommqy8RdD5Q_h79tEW0B7J4kPlK6Htcw3y_kE-/img.jpg?credential=yqXZFxpELC7KVnFOS48ylbz2pIh7yKj8&expires=1756652399&allow_ip=&allow_referer=&signature=F3D%2B7w9Z498vHRShEobd40IRmjg%3D)\\n\\n1. “그 과정에서 사람을 잃는 것이 두렵다면 결코 성장할 수 없을 것입니다. 때때로 과거의 관계는 새로운 계절에 속하지 않습니다.” 트렌트 트렌튼\\n\\n2.\\xa0\"필요하다면\\xa0불을\\xa0붙여라.\\xa0때때로\\xa0우리가\\xa0성장할\\xa0수\\xa0있도록\\xa0모든\\xa0것이\\xa0땅에\\xa0타야\\xa0할\\xa0필요가\\xa0있다.\"\\xa0AJ\\xa0무법   \\n  \\n3.\\xa0“성장은\\xa0결코\\xa0단순한\\xa0우연이\\xa0아닙니다.\\xa0그것은\\xa0함께\\xa0일하는\\xa0힘의\\xa0결과입니다.”\\xa0제임스\\xa0캐시\\xa0페니   \\n  \\n4. “작은 씨앗은 자라기 위해 흙 속에 떨어뜨려야 하고, 어둠으로 덮여 있어야 하며, 빛에 도달하기 위해 몸부림쳐야 한다는 것을 알고 있었습니다. ” 산드라 크링\\n\\n5. “안전을 향해 되돌아가거나 성장을 향해 전진하는 것을 선택할 수 있습니다. 계속해서 성장을 선택해야 하고, 계속해서 두려움을 극복해야 합니다.” 아브라함 매슬로우\\n\\n6.\\xa0“누구나\\xa0산꼭대기에서\\xa0살고\\xa0싶어\\xa0하지만\\xa0모든\\xa0행복과\\xa0성장은\\xa0산을\\xa0오르는\\xa0동안\\xa0일어난다.”\\xa0앤디\\xa0루니   \\n  \\n7. \"성장이란 단순히 우아하게 고통받는 법을 배우는 것이고 , 고통이 당신을 완전히 찢어놓지 않게 하는 것입니다.\" 니키타 길\\n\\n8.\\xa0“진정한\\xa0성장은\\xa0자신을\\xa0점검하고\\xa0바로잡기\\xa0시작할\\xa0때입니다.”\\xa0익명의   \\n  \\n9.\\xa0\"우리가\\xa0성장하고\\xa0있다면\\xa0우리는\\xa0항상\\xa0안전지대를\\xa0벗어나게\\xa0될\\xa0것입니다.\"\\xa0존\\xa0맥스웰\\n\\n10.\\xa0\"당신을\\xa0불편하게\\xa0만드는\\xa0것은\\xa0무엇이든\\xa0당신이\\xa0성장할\\xa0수\\xa0있는\\xa0가장\\xa0큰\\xa0기회입니다.\"\\xa0브라이언트\\xa0맥길   \\n  \\n11.\\xa0“개인의\\xa0성장은\\xa0새로운\\xa0정보를\\xa0배우는\\xa0것이\\xa0아니라\\xa0오래된\\xa0한계를\\xa0극복하는\\xa0것입니다.”\\xa0앨런\\xa0코헨   \\n  \\n12.\\xa0\"모든\\xa0움직임이\\xa0전진하지\\xa0않는\\xa0것처럼\\xa0모든\\xa0변화는\\xa0성장이\\xa0아닙니다.\"\\xa0엘렌\\xa0글래스고   \\n  \\n13.\\xa0“변화는\\xa0불가피하다.\\xa0성장은\\xa0선택\\xa0사항입니다.”\\xa0존\\xa0맥스웰   \\n\\xa0   \\n14.\\xa0\"성장의\\xa0열쇠는\\xa0우리의\\xa0인식\\xa0에\\xa0더\\xa0높은\\xa0차원의\\xa0의식을\\xa0도입하는\\xa0것입니다\\xa0.\"\\xa0노자   \\n  \\n15. “자신의 성장에 도움이 되는 삶의 환경을 만들 수 있을 만큼 자신을 사랑하세요. 당신의 행복을 해치는 사람, 생각, 상황을 놓아버리도록 하세요. 활기찬 환경을 조성하고 자신의 고유한 아름다움과 목적을 가장 잘 표현하는 데 도움이 되는 선택을 하기 위해 노력하십시오.” 스티브 마라볼리\\n\\n16. “나는 전에 한 번도 해본 적이 없는 일을 항상 하는 법을 배웠습니다. 성장과 편안함은 공존할 수 없습니다.” 지니 로메티\\n\\n17. \"성장은 고통스러울 수 있고, 변화는 고통스러울 수 있지만, 속하지 않는 곳에 갇혀 있는 것만큼 고통스러운 것은 없습니다.\" 찰스 H. 스펄전\\n\\n18.\\xa0\"성장은\\xa0종종\\xa0고통스러운\\xa0과정입니다.\"\\xa0엘버트\\xa0허바드   \\n  \\n19. “다른 사람을 비난하지 않는 습관을 들이면 영혼의 사랑 능력이 떨어지고 삶에서 선함이 자라는 것을 보게 될 것입니다.” 레오 톨스토이\\n\\n20. “변화하지 않으면 성장하지 않습니다. 우리가 성장하지 않는다면 우리는 진정으로 살아 있는 것이 아닙니다.” 게일 쉬히\\n\\n21.\\xa0\"제멋대로인\\xa0사람은\\xa0자신의\\xa0성장\\xa0외에\\xa0다른\\xa0목적이\\xa0없다.\"\\xa0브루스\\xa0리   \\n  \\n22.\\xa0\"성장을\\xa0제한하는\\xa0요소를\\xa0제거하십시오\\xa0.\"\\xa0피터\\xa0센지   \\n  \\n23. “변화는 거의 항상 성장의 신호이지만 상실감을 가져올 수 있습니다. 새로운 곳으로 가려면 다른 곳을 떠나야 할지도 모릅니다.” 프레드 로저스\\n\\n24. “성장 사고방식에서 도전은 위협적이기보다는 흥미진진합니다. 그래서 내 약점을 드러내겠다고 생각하기보다 와, 성장할 기회가 왔다고 하세요.” 캐롤 S. 드웩\\n\\n25.\\xa0\"변화는\\xa0불가피하지만\\xa0개인의\\xa0성장은\\xa0선택이다.\"\\xa0밥\\xa0프록터\\n\\n26.\\xa0\"변화에서\\xa0성장이\\xa0온다.\"\\xa0존\\xa0스튜어트   \\n  \\n27.\\xa0\"변화가\\xa0성장의\\xa0주요\\xa0원천인데\\xa0왜\\xa0저항해야\\xa0할까요?\"\\xa0로빈\\xa0샤르마   \\n  \\n28. \"인생은 항상 원하는 것을 제공하지는 않지만 자세히 살펴보면 성장에 필요한 것을 제공한다는 것을 알 수 있습니다.\" 레온 브라운\\n\\n29.\\xa0\"사랑에\\xa0대한\\xa0헌신\\xa0-\\xa0성장,\\xa0진정한\\xa0힘에\\xa0대한\\xa0헌신은\\xa0당신의\\xa0의지를\\xa0일상적으로\\xa0적용하는\\xa0것입니다.\"\\xa0게리\\xa0주카브   \\n  \\n30.\\xa0\"우리가\\xa0인생에서\\xa0직면하는\\xa0도전은\\xa0항상\\xa0우리\\xa0영혼의\\xa0성장에\\xa0도움이\\xa0되는\\xa0교훈입니다.\"\\xa0마리안느\\xa0윌리엄슨   \\n  \\n31.\\xa0\"성장은\\xa0변화를\\xa0의미하고\\xa0변화는\\xa0알려진\\xa0것에서\\xa0알려지지\\xa0않은\\xa0것으로\\xa0나아가는\\xa0위험을\\xa0수반합니다.\"\\xa0조지\\xa0신   \\n  \\n32.\\xa0\"모든\\xa0경험은\\xa0당신을\\xa0성장시킨다.\"\\xa0익명의   \\n  \\n33.\\xa0“순응은\\xa0자유의\\xa0간수이자\\xa0성장의\\xa0적이다.”\\xa0존\\xa0F.\\xa0케네디   \\n  \\n34.\\xa0“실패.\\xa0배우다.\\xa0자라다.\"\\xa0익명의   \\n  \\n35. \"힘과 성장은 오직 지속적인 노력과 투쟁을 통해서만 옵니다.\" 나폴레옹 힐\\n\\n[2023년 성장에 영감을 주는 자기계발 명언 50가지](https://goodquotes.tistory.com/entry/2023년-성장에-영감을-주는-자기계발-명언-50가지)\\n\\n2023년 성장에 영감을 주는 자기계발 명언 50가지\\n\\n개인 개발은 항상 견고한 자기 인식 또는 자신의 생각, 감정 및 핵심 가치를 이해하는 능력에서 시작됩니다. 더 나은 자신이 되는 것에 대해 진지하게 생각하고 있다면 첫 번째 단계는 자신이 어\\n\\ngoodquotes.tistory.com\\n\\n#### \\'[동기부여 명언](/category/%EB%8F%99%EA%B8%B0%EB%B6%80%EC%97%AC%20%EB%AA%85%EC%96%B8)\\' 카테고리의 다른 글\\n\\n|  |  |\\n| --- | --- |\\n| [학생들을 위한 좋은글귀 명언 30가지 모음](/entry/%ED%95%99%EC%83%9D%EB%93%A4%EC%9D%84-%EC%9C%84%ED%95%9C-%EC%A2%8B%EC%9D%80%EA%B8%80%EA%B7%80-%EB%AA%85%EC%96%B8-30%EA%B0%80%EC%A7%80-%EB%AA%A8%EC%9D%8C)\\xa0\\xa0(0) | 2023.03.01 |\\n| [자녀교육에 대한 명언 30가지](/entry/%EC%9E%90%EB%85%80%EA%B5%90%EC%9C%A1%EC%97%90-%EB%8C%80%ED%95%9C-%EB%AA%85%EC%96%B8-30%EA%B0%80%EC%A7%80)\\xa0\\xa0(0) | 2023.02.28 |\\n| [실패 관련 명언 20가지](/entry/%EC%8B%A4%ED%8C%A8-%EA%B4%80%EB%A0%A8-%EB%AA%85%EC%96%B8-20%EA%B0%80%EC%A7%80)\\xa0\\xa0(0) | 2023.02.25 |\\n| [목표 세우는데 영감을 주는 명언 18가지](/entry/%EB%AA%A9%ED%91%9C-%EC%84%B8%EC%9A%B0%EB%8A%94%EB%8D%B0-%EC%98%81%EA%B0%90%EC%9D%84-%EC%A3%BC%EB%8A%94-%EB%AA%85%EC%96%B8-18%EA%B0%80%EC%A7%80)\\xa0\\xa0(0) | 2023.02.21 |\\n| [동기부여 명언 27가지](/entry/%EB%8F%99%EA%B8%B0%EB%B6%80%EC%97%AC-%EB%AA%85%EC%96%B8-27%EA%B0%80%EC%A7%80)\\xa0\\xa0(0) | 2023.02.15 |\\n\\n## 태그\\n\\n## 관련글\\n\\n![](//i1.daumcdn.net/thumb/C176x120/?fname=https%3A%2F%2Fblog.kakaocdn.net%2Fdna%2FCfibP%2Fbtr1nCw3bpf%2FAAAAAAAAAAAAAAAAAAAAAL0ODw7RaME3irZZoauW5sg17uacq09zmUhEgzJUOY0q%2Fimg.jpg%3Fcredential%3DyqXZFxpELC7KVnFOS48ylbz2pIh7yKj8%26expires%3D1756652399%26allow_ip%3D%26allow_referer%3D%26signature%3DPA%252BLI40K3QIvdFjtpCheeIDMinw%253D)\\n![](//i1.daumcdn.net/thumb/C176x120/?fname=https%3A%2F%2Fblog.kakaocdn.net%2Fdna%2FdQf2DO%2Fbtr1lASYlBW%2FAAAAAAAAAAAAAAAAAAAAABm44z6alQMKXn_rJMwyR2i9B78Vp3U8MQcKOJIxWEpD%2Fimg.jpg%3Fcredential%3DyqXZFxpELC7KVnFOS48ylbz2pIh7yKj8%26expires%3D1756652399%26allow_ip%3D%26allow_referer%3D%26signature%3DcjAmM8t3PnVXT3KEccGDXo7YULQ%253D)\\n![](//i1.daumcdn.net/thumb/C176x120/?fname=https%3A%2F%2Fblog.kakaocdn.net%2Fdna%2FqKaNj%2Fbtr0GKpYexK%2FAAAAAAAAAAAAAAAAAAAAABcL_RGlbmy--AQIGZwTi_ipPWdnSN32ZyczNZ8HBvhb%2Fimg.jpg%3Fcredential%3DyqXZFxpELC7KVnFOS48ylbz2pIh7yKj8%26expires%3D1756652399%26allow_ip%3D%26allow_referer%3D%26signature%3DcN9w7i7gx8XYotoFMTM%252FRcyhTEc%253D)\\n![](//i1.daumcdn.net/thumb/C176x120/?fname=https%3A%2F%2Fblog.kakaocdn.net%2Fdna%2FdxgRRD%2FbtrZ7Gg77dh%2FAAAAAAAAAAAAAAAAAAAAAIgbnLnyObN5rK7utxE54ujrfjc1lLGzOe4K_dBbREou%2Fimg.jpg%3Fcredential%3DyqXZFxpELC7KVnFOS48ylbz2pIh7yKj8%26expires%3D1756652399%26allow_ip%3D%26allow_referer%3D%26signature%3D8GwKC%252BuVA0Q6yFRw3RzsIXjolhE%253D)\\n\\n## 댓글0\\n\\n삶에 영감을 주는 명언 인용구 모음\\n\\nCopyright © 오늘의명언. All rights reserved.\\n\\n## 티스토리툴바'}, {'url': 'https://heartpd.tistory.com/53', 'title': '도전과 성장을 이끄는 10가지 명언 모음 - 하트피리', 'content': '1. \"도전 없이는 성취도 없다.\" - Benjamin Franklin · 2. \"모험은 실패를 두려워하지 않고 도전하는 것이다.\" - Ray Bradbury · 3. \"도전을 받아들이고', 'score': 0.6999322, 'raw_content': '# [하트피리](https://heartpd.tistory.com/)\\n\\n## [도전과 성장을 이끄는 10가지 명언 모음](/53)\\n\\n안녕하세요, 여러분! 오늘은 도전의 가치와 성장에 관한 명언을 소개하고자 합니다.\\n\\n도전과 성장이라는 마치 연관 검색어 처럼 떼어낼 수 없는 키워드입니다.\\n\\n이 글을 통해 도전과 성장의 중요성을 알리고 여러분의 인생에 긍정적인 영향을 끼칠 수 있기를 바랍니다.\\n\\n![](https://blog.kakaocdn.net/dna/ZY2pe/btsblEejCAH/AAAAAAAAAAAAAAAAAAAAAIRRifDpix85_uTf45XkUvUJa5Ri87ISTMx8A293zBWW/img.png?credential=yqXZFxpELC7KVnFOS48ylbz2pIh7yKj8&expires=1756652399&allow_ip=&allow_referer=&signature=R22qaZPX48OkDSkDKgYyBHIzOa4%3D)\\n\\n![](https://blog.kakaocdn.net/dna/ZY2pe/btsblEejCAH/AAAAAAAAAAAAAAAAAAAAAIRRifDpix85_uTf45XkUvUJa5Ri87ISTMx8A293zBWW/img.png?credential=yqXZFxpELC7KVnFOS48ylbz2pIh7yKj8&expires=1756652399&allow_ip=&allow_referer=&signature=R22qaZPX48OkDSkDKgYyBHIzOa4%3D)\\n\\n## 1. \"도전 없이는 성취도 없다.\" - Benjamin\\xa0Franklin\\n\\n![](https://blog.kakaocdn.net/dna/eVfgN5/btsblykSICZ/AAAAAAAAAAAAAAAAAAAAAJlOV5ouqu4swP3r25XFEKO-LiFDGWG4DR6DGrX-TDf-/img.png?credential=yqXZFxpELC7KVnFOS48ylbz2pIh7yKj8&expires=1756652399&allow_ip=&allow_referer=&signature=Cp3NQLvf8kVJ4ZTuLL9RMial4uw%3D)\\n\\n![](https://blog.kakaocdn.net/dna/eVfgN5/btsblykSICZ/AAAAAAAAAAAAAAAAAAAAAJlOV5ouqu4swP3r25XFEKO-LiFDGWG4DR6DGrX-TDf-/img.png?credential=yqXZFxpELC7KVnFOS48ylbz2pIh7yKj8&expires=1756652399&allow_ip=&allow_referer=&signature=Cp3NQLvf8kVJ4ZTuLL9RMial4uw%3D)\\n\\n\"Without continual growth and progress, such words as improvement, achievement, and success have no meaning.\"\\n\\n도전을 통해 우리는 더 큰 성취와 발전을 이루어낼 수 있습니다.\\n\\n도전의 가치를 깨닫고, 더 큰 도약을 꿈꾸세요.\\n\\n### 2. \"모험은 실패를 두려워하지 않고 도전하는 것이다.\" - Ray Bradbury\\n\\n\"Adventure\\xa0is\\xa0not\\xa0in\\xa0the\\xa0guidebook,\\xa0and\\xa0beauty\\xa0is\\xa0not\\xa0on\\xa0the\\xa0map.\\xa0Seek\\xa0and\\xa0ye\\xa0shall\\xa0find.\"\\n\\n\\xa0- 레이 브래드버리: 미국의\\xa0작가로,\\xa0과학소설과\\xa0환상소설의\\xa0거장\\n\\n실패에 두려워하지 말고, 모험의 즐거움을 느끼며 도전하세요. 실패는 성장의 발판이 됩니다.\\n\\n### 3.\\xa0 \"도전을 받아들이고 실패를 두려워하지 마라. 이것이 성공으로 이어지는 길이다.\" - Michael\\xa0Jordan\\n\\n\"Accept\\xa0the\\xa0challenges\\xa0so\\xa0that\\xa0you\\xa0can\\xa0feel\\xa0the\\xa0exhilaration\\xa0of\\xa0victory.\"\\n\\n도전을 받아들이는 것이 성공의 비결입니다.\\n\\n두려움을 이겨내고 성공의 길을 걸어가세요.\\n\\n농국선수로서의 화려한 커리어를 뒤로 하고 마이클 조던은 새로운 분야인 야구에 도전하기도 하였습니다.\\n\\n물론 농구처럼 성과를 거둘 수는 없었지만, 그 도전 정신만으로도 의미가 있는 것 같습니다.\\n\\n### 4. \"세상에서 당신 자신이 되는 것이야말로 가장 큰 성취이다.\" Ralph Waldo Emerson\\n\\n\"To\\xa0be\\xa0yourself\\xa0in\\xa0a\\xa0world\\xa0that\\xa0is\\xa0constantly\\xa0trying\\xa0to\\xa0make\\xa0you\\xa0something\\xa0else\\xa0is\\xa0the\\xa0greatest\\xa0accomplishment.\"\\n\\n자신의 두려움을 이기고 도전하는 것이 인생에서 가장 큰 승리입니다. 도전의 가치를 높이 여기며 살아가세요.\\n\\n### 5. \"오직 도전을 통해 자신이 무엇을 할 수 있는지 알 수 있다.\" Marie Curie\\n\\n![](https://blog.kakaocdn.net/dna/cxXFXa/btsbk6a3GgQ/AAAAAAAAAAAAAAAAAAAAANBatBhP-S9OldoW2gDKkYEJnua9jPJS8A84Q9BKP9PD/img.png?credential=yqXZFxpELC7KVnFOS48ylbz2pIh7yKj8&expires=1756652399&allow_ip=&allow_referer=&signature=2AdweltAREK%2F12WV4r%2FbHXdV1MI%3D)\\n\\n![](https://blog.kakaocdn.net/dna/cxXFXa/btsbk6a3GgQ/AAAAAAAAAAAAAAAAAAAAANBatBhP-S9OldoW2gDKkYEJnua9jPJS8A84Q9BKP9PD/img.png?credential=yqXZFxpELC7KVnFOS48ylbz2pIh7yKj8&expires=1756652399&allow_ip=&allow_referer=&signature=2AdweltAREK%2F12WV4r%2FbHXdV1MI%3D)\\n\\n\"One\\xa0never\\xa0notices\\xa0what\\xa0has\\xa0been\\xa0done;\\xa0one\\xa0can\\xa0only\\xa0see\\xa0what\\xa0remains\\xa0to\\xa0be\\xa0done.\"\\n\\n자신의 능력을 시험하기 위해서는 도전이 필요합니다.\\n\\n도전을 통해 더 큰 성장을 이룰 수 있습니다.\\n\\n성별의 벽을 허물과 역사상 최초 여상 노벨상 수상자로 기록된 매리큐리의 말이 더 마음에 와닿는 것 같습니다.\\n\\n### 6. \"우리가 정복한 것은 산이 아니라 우리 자신이다.\" Sir Edmund Hillary\\n\\n\"It\\xa0is\\xa0not\\xa0the\\xa0mountain\\xa0we\\xa0conquer,\\xa0but\\xa0ourselves.\"\\n\\n자신의 한계를 뛰어넘는 도전을 통해 인생의 가치를 찾아가세요.\\n\\n도전의 가치를 깨닫고 삶의 의미를 찾으세요.\\n\\n### 7. \"불가능한 것을 도전하면 가능성의 세계로 이끄는 문이 열린다.\"\\xa0 Joel Brown\\n\\n\"When\\xa0you\\xa0face\\xa0your\\xa0fear,\\xa0you\\xa0open\\xa0the\\xa0door\\xa0to\\xa0a\\xa0world\\xa0of\\xa0possibilities.\"\\n\\n불가능해 보이는 도전에도 도전함으로써 가능성의 문이 열립니다. 도전의 가치를 인식하고 더 큰 가능성을 찾아가세요.\\n\\n### 8. \"도전은 인생의 동력이다. 도전을 받아들이며 성장하라.\" Joshua J. Marine\\n\\n\"Challenges\\xa0are\\xa0what\\xa0make\\xa0life\\xa0interesting,\\xa0and\\xa0overcoming\\xa0them\\xa0is\\xa0what\\xa0makes\\xa0life\\xa0meaningful.\"\\n\\n도전은 인생의 원동력이자 성장의 기회입니다. 도전을 받아들여 성장하고, 삶의 가치를 높여가세요.\\n\\n### 9. \"인생은 계속해서 도전하는 것이다. 도전을 멈추면 성장도 멈춘다.\" John Maxwell\\n\\n\"Life\\xa0is\\xa0a\\xa0series\\xa0of\\xa0experiences,\\xa0each\\xa0one\\xa0of\\xa0which\\xa0makes\\xa0us\\xa0bigger,\\xa0even\\xa0though\\xa0sometimes\\xa0it\\xa0is\\xa0hard\\xa0to\\xa0realize\\xa0this.\\xa0For\\xa0the\\xa0world\\xa0was\\xa0built\\xa0to\\xa0develop\\xa0character,\\xa0and\\xa0we\\xa0must\\xa0learn\\xa0that\\xa0the\\xa0setbacks\\xa0and\\xa0grieves\\xa0which\\xa0we\\xa0endure\\xa0help\\xa0us\\xa0in\\xa0our\\xa0marching\\xa0onward.\"\\n\\n인생은 도전의 연속이며, 도전을 멈추면 성장도 멈춥니다. 계속 도전하며 삶의 가치를 높여가세요.\\n\\n### 10. \"만약 도전이 너무 커 보인다면, 그것은 네게 완벽한 도전이다.\" Dean Karnazes\\n\\n\"If\\xa0the\\xa0challenge\\xa0before\\xa0you\\xa0is\\xa0too\\xa0big,\\xa0then\\xa0it\\'s\\xa0the\\xa0perfect\\xa0challenge\\xa0for\\xa0you.\"\\n\\n도전이 커 보이면 그것이 바로 완벽한 도전입니다.\\n\\n도전의 가치를 인식하고 자신에게 맞는 도전을 찾아 나아가세요.\\n\\n이상으로 도전의 가치와 성장을 이끄는 10가지 명언을 소개했습니다.\\n\\n이 글을 통해 여러분의 인생에 긍정적인 변화가 있기를 바라며, 도전의 가치를 높이 여기시길 바랍니다.\\n\\n도전과 성장을 통해 더 풍요로운 인생을 살아가시길 기원합니다.\\n\\n#### \\'[명언모음](/category/%EB%AA%85%EC%96%B8%EB%AA%A8%EC%9D%8C)\\' 카테고리의 다른 글\\n\\n|  |  |\\n| --- | --- |\\n| [\\'끈기\\'와 \\'인내\\'와 관련된 명언 7개: 성공을 위한 필수 덕목](/245)\\xa0\\xa0(1) | 2024.05.07 |\\n| [자녀교육의 깊은 통찰: 영감을 주는 명언 모음](/236)\\xa0\\xa0(0) | 2024.03.12 |\\n| [리더십의 본질: 훌륭한 리더를 위한 영감의 명언들](/223)\\xa0\\xa0(4) | 2023.11.30 |\\n| [\\'성장\\' 과 관련된 명언 모음: 인생을 변화시키는 명언들](/222)\\xa0\\xa0(0) | 2023.11.30 |\\n| [독서와 성장, 영감을 주는 10가지 명언](/58)\\xa0\\xa0(3) | 2023.04.21 |\\n\\n### 이 글을 공유합시다\\n\\n![facebook](https://tistory1.daumcdn.net/tistory/2743494/skin/images/logo_facebook.png)\\n![twitter](https://tistory1.daumcdn.net/tistory/2743494/skin/images/logo_twitter.png)\\n![googleplus](https://tistory1.daumcdn.net/tistory/2743494/skin/images/logo_googleplus.png)\\n![kakaoTalk](https://tistory1.daumcdn.net/tistory/2743494/skin/images/logo_kakao.png)\\n![kakaostory](https://tistory1.daumcdn.net/tistory/2743494/skin/images/logo_kakaostory.png)\\n![naver](https://tistory1.daumcdn.net/tistory/2743494/skin/images/logo_naver.png)\\n![band](https://tistory1.daumcdn.net/tistory/2743494/skin/images/logo_band.png)\\n\\n### 본문과 관련 있는 내용으로 댓글을 남겨주시면 감사하겠습니다.\\n\\n### 블로그정보\\n\\n![블로그 이미지](https://tistory1.daumcdn.net/tistory/2743494/attach/ba74ad2473af483eac98cf1042c4d92c)\\n\\nheartPD\\n\\n삶을 개선 시키는 생선성 도구, 지식과 정보를 이야기하는 공간입니다.\\nSteady to Extraordinary\\n\\n### 카테고리\\n\\n### 인기글\\n\\n### 최근글\\n\\n### 최근댓글\\n\\n### 달력\\n\\n[«](/archive/202507 \"1개월 앞의 달력을 보여줍니다.\") \\xa0 [2025/08](/archive/202508 \"현재 달의 달력을 보여줍니다.\") \\xa0 [»](/archive/202509 \"1개월 뒤의 달력을 보여줍니다.\")\\n\\n| 일 | 월 | 화 | 수 | 목 | 금 | 토 |\\n| --- | --- | --- | --- | --- | --- | --- |\\n|  |  |  |  |  | 1 | 2 |\\n| 3 | 4 | 5 | 6 | 7 | 8 | 9 |\\n| 10 | 11 | 12 | 13 | 14 | 15 | 16 |\\n| 17 | 18 | 19 | 20 | 21 | 22 | 23 |\\n| 24 | 25 | 26 | 27 | 28 | 29 | 30 |\\n| 31 |  |  |  |  |  |  |\\n\\n### 글보관함\\n\\nCopyright © [heartPD](/). All Right Reserved.\\n\\nDesign by [친절한효자손](https://rgy0409.tistory.com)\\n\\n[친효스킨 v1.17](https://rgy0409.tistory.com/3119)\\n\\n## 티스토리툴바'}], 'response_time': 4.58, 'request_id': '681f3c60-8743-4569-a38a-af6399c69404'}\u001b[0m\u001b[32;1m\u001b[1;3m```json\n",
      "{\n",
      "    \"quote\": \"성장은 결코 단순한 우연이 아닙니다. 그것은 함께 일하는 힘의 결과입니다.\",\n",
      "    \"author\": \"제임스 캐시 페니\",\n",
      "    \"explanation\": \"오늘 하루는 정말 다양한 감정으로 가득했구나. 아침의 상쾌함, 발표의 긴장감, 그리고 첫눈의 포근함까지. 이런 하루를 보내면서 너도 많이 성장했을 거야. 제임스 캐시 페니의 말처럼, 성장은 우연히 이루어지는 게 아니라, 너의 노력과 주변의 힘이 함께 만들어가는 결과야. 오늘의 경험들이 너를 더 단단하게 만들어줄 거야. 앞으로도 계속해서 성장하는 너를 응원할게!\"\n",
      "}\n",
      "```\u001b[0m\n",
      "\n",
      "\u001b[1m> Finished chain.\u001b[0m\n"
     ]
    }
   ],
   "source": [
    "import uuid\n",
    "\n",
    "config = {\"configurable\": {\"thread_id\": str(uuid.uuid4())}}\n",
    "test_state = {\n",
    "    'diary_body': \"\"\"오늘 아침, 나는 오랜만에 조깅을 나갔다. 해가 떠오르기 시작한 시간, 6시. 아침 햇살이 너무 예뻐서 기분이 좋았다. 바람은 선선하고, 몸은 가벼워서 상쾌한 기분이 들었다. 조깅을 하면서 느끼는 그 홀가분한 감정은 언제나 나를 행복하게 만든다. 오늘은 특히나 기분이 좋았다. 아침 시간을 나를 위해 쓴 것 같아 뿌듯함이 느껴졌다. 하지만 운동화를 바꿔야 할 것 같다는 생각이 들었다. 발이 살짝 아팠거든.\n",
    "\n",
    "오후가 되어 2시 반, 나는 프로젝트 발표를 준비했다. 동료 유재석과 함께한 이 프로젝트는 나에게 많은 의미가 있었다. 발표 전에는 심장이 너무 뛰어서 손까지 떨렸다. 긴장감이 가득했지만, 막상 말하기 시작하니 점점 긴장이 풀렸다. 준비했던 내용을 자연스럽게 전달할 수 있었고, 그 순간의 안도감은 이루 말할 수 없었다. 많이 떨렸지만, 결국 잘 해내서 다행이라는 생각이 들었다. 진심을 담은 설명은 꼭 완벽하지 않아도 전달된다는 것을 느꼈다.\n",
    "\n",
    "저녁 8시, 나는 첫눈을 보았다. 언제나처럼 첫눈을 보면 기분이 좋아진다. 코끝도, 손도, 발도 시렸지만, 마음은 포근했다. 바쁘게 흘러가는 일상 속에서 잠깐 멈춰서 첫눈을 즐기며 마음을 느낄 수 있었다. 그 순간, 세상의 모든 것이 멈춘 듯한 기분이 들었다. 오늘 하루는 이렇게 기쁨과 두려움, 설렘이 가득한 하루였다. 아침의 상쾌함, 발표의 긴장감, 그리고 첫눈의 포근함이 어우러져 나에게 특별한 하루를 선사해주었다.\n",
    "    \"\"\"\n",
    "}\n",
    "\n",
    "result = letter_graph.invoke(test_state)"
   ]
  },
  {
   "cell_type": "code",
   "execution_count": 9,
   "id": "ed5a7db7",
   "metadata": {},
   "outputs": [
    {
     "data": {
      "text/markdown": [
       "# 💌 비밀친구의 편지\n",
       "\n",
       "너를 위해 작지만 따뜻한 편지를 준비했어.\n",
       "\n",
       "---\n",
       "\n",
       "## 🌟 오늘의 칭찬\n",
       "\n",
       "> 와, 너 오늘 아침에 6시에 일어나서 조깅한 거 진짜 대단한 거 알지? 아침 햇살 받으면서 상쾌하게 뛰었다니, 그거 완전 인생의 승리자야! 진짜 너의 그 부지런함과 자기관리 능력, 나도 좀 나눠줘라! 🌟\n",
       "\n",
       "---\n",
       "\n",
       "## 🎵 오늘의 음악 추천\n",
       "\n",
       "**첫눈처럼 너에게 가겠다** - *KIM HOJOONG*  \n",
       "🔗 [음악 들으러 가기](https://open.spotify.com/track/3dzJTVPcw9zw1Pmf0z1gIm)  \n",
       "_👉 첫눈을 보면서 느꼈던 그 포근한 마음을 담아, 이 노래가 너의 특별한 하루를 더 따뜻하게 만들어줄 것 같아. 첫눈처럼 너에게 다가가는 감성을 느껴봐!_\n",
       "\n",
       "---\n",
       "\n",
       "## 📝 오늘의 명언\n",
       "\n",
       "> “성장은 결코 단순한 우연이 아닙니다. 그것은 함께 일하는 힘의 결과입니다.”  \n",
       "> — *제임스 캐시 페니*  \n",
       "오늘 하루는 정말 다양한 감정으로 가득했구나. 아침의 상쾌함, 발표의 긴장감, 그리고 첫눈의 포근함까지. 이런 하루를 보내면서 너도 많이 성장했을 거야. 제임스 캐시 페니의 말처럼, 성장은 우연히 이루어지는 게 아니라, 너의 노력과 주변의 힘이 함께 만들어가는 결과야. 오늘의 경험들이 너를 더 단단하게 만들어줄 거야. 앞으로도 계속해서 성장하는 너를 응원할게!\n",
       "\n",
       "---\n",
       "\n",
       "## 🌷 F의 위로\n",
       "\n",
       "오늘 하루 정말 특별했겠다! 아침 조깅하면서 느낀 상쾌함과 뿌듯함, 그리고 프로젝트 발표의 긴장감 속에서도 잘 해낸 너의 모습이 정말 대단해. 준비한 만큼 자연스럽게 전달할 수 있었다니, 그 순간의 안도감이 얼마나 컸을지 상상이 가. 그리고 저녁에 첫눈을 보면서 느낀 포근함까지, 하루를 꽉 채운 다양한 감정들이 너에게 큰 의미로 다가왔을 것 같아. 발이 살짝 아팠던 건 아쉽지만, 그럼에도 불구하고 하루를 잘 견뎌낸 너 자신을 칭찬해주고 싶어. 앞으로도 이런 소중한 순간들이 너에게 많이 찾아오길 바라!\n",
       "\n",
       "---\n",
       "\n",
       "## 🧭 T의 조언\n",
       "\n",
       "조깅하면서 느낀 상쾌함과 발표를 잘 마친 성취감, 그리고 첫눈의 포근함까지, 오늘 하루 정말 알차게 보냈네! 운동화가 발에 불편했다면, 조깅을 꾸준히 하려면 발에 맞는 좋은 운동화를 하나 장만하는 게 좋을 것 같아. 발이 편해야 더 오래, 더 자주 조깅할 수 있으니까. 그리고 발표 준비하면서 긴장했던 부분은, 다음번엔 미리 몇 번 더 연습해보는 것도 좋을 것 같아. 연습이 많을수록 자신감도 더 생기고, 발표할 때 떨림도 줄어들 거야. 오늘 하루 잘 보냈으니, 내일도 힘내자!\n",
       "\n",
       "---\n",
       "\n",
       "비밀친구가 여기 있다는 걸 잊지 마.  \n",
       "내일도 네 편이 되어줄게.\n",
       "\n",
       "다 잘 될 거야! ☁️\n",
       "잘 자.\n",
       "\n",
       "— 너의 비밀친구가 -\n"
      ],
      "text/plain": [
       "<IPython.core.display.Markdown object>"
      ]
     },
     "metadata": {},
     "output_type": "display_data"
    }
   ],
   "source": [
    "from IPython.display import Markdown\n",
    "\n",
    "display(Markdown(result['letter_markdown']))"
   ]
  }
 ],
 "metadata": {
  "kernelspec": {
   "display_name": "langchain-kr-py3.11",
   "language": "python",
   "name": "python3"
  },
  "language_info": {
   "codemirror_mode": {
    "name": "ipython",
    "version": 3
   },
   "file_extension": ".py",
   "mimetype": "text/x-python",
   "name": "python",
   "nbconvert_exporter": "python",
   "pygments_lexer": "ipython3",
   "version": "3.11.9"
  }
 },
 "nbformat": 4,
 "nbformat_minor": 5
}
